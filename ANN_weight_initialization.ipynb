{
 "cells": [
  {
   "cell_type": "markdown",
   "metadata": {},
   "source": [
    "# Deep Learning"
   ]
  },
  {
   "cell_type": "code",
   "execution_count": 2,
   "metadata": {},
   "outputs": [],
   "source": [
    "import keras"
   ]
  },
  {
   "cell_type": "code",
   "execution_count": 3,
   "metadata": {},
   "outputs": [],
   "source": [
    "# Importing Numpy, Matplotlib and Pandas\n",
    "\n",
    "import numpy as np\n",
    "import pandas as pd\n",
    "import matplotlib.pyplot as plt"
   ]
  },
  {
   "cell_type": "code",
   "execution_count": 4,
   "metadata": {},
   "outputs": [],
   "source": [
    "# Importing dataset\n",
    "\n",
    "dataset = pd.read_csv('Churn_Modelling.csv')\n",
    "X = dataset.iloc[:, 3:13]\n",
    "y = dataset.iloc[:, 13]"
   ]
  },
  {
   "cell_type": "code",
   "execution_count": 5,
   "metadata": {},
   "outputs": [
    {
     "data": {
      "text/html": [
       "<div>\n",
       "<style scoped>\n",
       "    .dataframe tbody tr th:only-of-type {\n",
       "        vertical-align: middle;\n",
       "    }\n",
       "\n",
       "    .dataframe tbody tr th {\n",
       "        vertical-align: top;\n",
       "    }\n",
       "\n",
       "    .dataframe thead th {\n",
       "        text-align: right;\n",
       "    }\n",
       "</style>\n",
       "<table border=\"1\" class=\"dataframe\">\n",
       "  <thead>\n",
       "    <tr style=\"text-align: right;\">\n",
       "      <th></th>\n",
       "      <th>RowNumber</th>\n",
       "      <th>CustomerId</th>\n",
       "      <th>Surname</th>\n",
       "      <th>CreditScore</th>\n",
       "      <th>Geography</th>\n",
       "      <th>Gender</th>\n",
       "      <th>Age</th>\n",
       "      <th>Tenure</th>\n",
       "      <th>Balance</th>\n",
       "      <th>NumOfProducts</th>\n",
       "      <th>HasCrCard</th>\n",
       "      <th>IsActiveMember</th>\n",
       "      <th>EstimatedSalary</th>\n",
       "      <th>Exited</th>\n",
       "    </tr>\n",
       "  </thead>\n",
       "  <tbody>\n",
       "    <tr>\n",
       "      <th>0</th>\n",
       "      <td>1</td>\n",
       "      <td>15634602</td>\n",
       "      <td>Hargrave</td>\n",
       "      <td>619</td>\n",
       "      <td>France</td>\n",
       "      <td>Female</td>\n",
       "      <td>42</td>\n",
       "      <td>2</td>\n",
       "      <td>0.00</td>\n",
       "      <td>1</td>\n",
       "      <td>1</td>\n",
       "      <td>1</td>\n",
       "      <td>101348.88</td>\n",
       "      <td>1</td>\n",
       "    </tr>\n",
       "    <tr>\n",
       "      <th>1</th>\n",
       "      <td>2</td>\n",
       "      <td>15647311</td>\n",
       "      <td>Hill</td>\n",
       "      <td>608</td>\n",
       "      <td>Spain</td>\n",
       "      <td>Female</td>\n",
       "      <td>41</td>\n",
       "      <td>1</td>\n",
       "      <td>83807.86</td>\n",
       "      <td>1</td>\n",
       "      <td>0</td>\n",
       "      <td>1</td>\n",
       "      <td>112542.58</td>\n",
       "      <td>0</td>\n",
       "    </tr>\n",
       "    <tr>\n",
       "      <th>2</th>\n",
       "      <td>3</td>\n",
       "      <td>15619304</td>\n",
       "      <td>Onio</td>\n",
       "      <td>502</td>\n",
       "      <td>France</td>\n",
       "      <td>Female</td>\n",
       "      <td>42</td>\n",
       "      <td>8</td>\n",
       "      <td>159660.80</td>\n",
       "      <td>3</td>\n",
       "      <td>1</td>\n",
       "      <td>0</td>\n",
       "      <td>113931.57</td>\n",
       "      <td>1</td>\n",
       "    </tr>\n",
       "    <tr>\n",
       "      <th>3</th>\n",
       "      <td>4</td>\n",
       "      <td>15701354</td>\n",
       "      <td>Boni</td>\n",
       "      <td>699</td>\n",
       "      <td>France</td>\n",
       "      <td>Female</td>\n",
       "      <td>39</td>\n",
       "      <td>1</td>\n",
       "      <td>0.00</td>\n",
       "      <td>2</td>\n",
       "      <td>0</td>\n",
       "      <td>0</td>\n",
       "      <td>93826.63</td>\n",
       "      <td>0</td>\n",
       "    </tr>\n",
       "    <tr>\n",
       "      <th>4</th>\n",
       "      <td>5</td>\n",
       "      <td>15737888</td>\n",
       "      <td>Mitchell</td>\n",
       "      <td>850</td>\n",
       "      <td>Spain</td>\n",
       "      <td>Female</td>\n",
       "      <td>43</td>\n",
       "      <td>2</td>\n",
       "      <td>125510.82</td>\n",
       "      <td>1</td>\n",
       "      <td>1</td>\n",
       "      <td>1</td>\n",
       "      <td>79084.10</td>\n",
       "      <td>0</td>\n",
       "    </tr>\n",
       "  </tbody>\n",
       "</table>\n",
       "</div>"
      ],
      "text/plain": [
       "   RowNumber  CustomerId   Surname  CreditScore Geography  Gender  Age  \\\n",
       "0          1    15634602  Hargrave          619    France  Female   42   \n",
       "1          2    15647311      Hill          608     Spain  Female   41   \n",
       "2          3    15619304      Onio          502    France  Female   42   \n",
       "3          4    15701354      Boni          699    France  Female   39   \n",
       "4          5    15737888  Mitchell          850     Spain  Female   43   \n",
       "\n",
       "   Tenure    Balance  NumOfProducts  HasCrCard  IsActiveMember  \\\n",
       "0       2       0.00              1          1               1   \n",
       "1       1   83807.86              1          0               1   \n",
       "2       8  159660.80              3          1               0   \n",
       "3       1       0.00              2          0               0   \n",
       "4       2  125510.82              1          1               1   \n",
       "\n",
       "   EstimatedSalary  Exited  \n",
       "0        101348.88       1  \n",
       "1        112542.58       0  \n",
       "2        113931.57       1  \n",
       "3         93826.63       0  \n",
       "4         79084.10       0  "
      ]
     },
     "execution_count": 5,
     "metadata": {},
     "output_type": "execute_result"
    }
   ],
   "source": [
    "dataset.head()"
   ]
  },
  {
   "cell_type": "code",
   "execution_count": 6,
   "metadata": {},
   "outputs": [
    {
     "data": {
      "text/html": [
       "<div>\n",
       "<style scoped>\n",
       "    .dataframe tbody tr th:only-of-type {\n",
       "        vertical-align: middle;\n",
       "    }\n",
       "\n",
       "    .dataframe tbody tr th {\n",
       "        vertical-align: top;\n",
       "    }\n",
       "\n",
       "    .dataframe thead th {\n",
       "        text-align: right;\n",
       "    }\n",
       "</style>\n",
       "<table border=\"1\" class=\"dataframe\">\n",
       "  <thead>\n",
       "    <tr style=\"text-align: right;\">\n",
       "      <th></th>\n",
       "      <th>CreditScore</th>\n",
       "      <th>Geography</th>\n",
       "      <th>Gender</th>\n",
       "      <th>Age</th>\n",
       "      <th>Tenure</th>\n",
       "      <th>Balance</th>\n",
       "      <th>NumOfProducts</th>\n",
       "      <th>HasCrCard</th>\n",
       "      <th>IsActiveMember</th>\n",
       "      <th>EstimatedSalary</th>\n",
       "    </tr>\n",
       "  </thead>\n",
       "  <tbody>\n",
       "    <tr>\n",
       "      <th>0</th>\n",
       "      <td>619</td>\n",
       "      <td>France</td>\n",
       "      <td>Female</td>\n",
       "      <td>42</td>\n",
       "      <td>2</td>\n",
       "      <td>0.00</td>\n",
       "      <td>1</td>\n",
       "      <td>1</td>\n",
       "      <td>1</td>\n",
       "      <td>101348.88</td>\n",
       "    </tr>\n",
       "    <tr>\n",
       "      <th>1</th>\n",
       "      <td>608</td>\n",
       "      <td>Spain</td>\n",
       "      <td>Female</td>\n",
       "      <td>41</td>\n",
       "      <td>1</td>\n",
       "      <td>83807.86</td>\n",
       "      <td>1</td>\n",
       "      <td>0</td>\n",
       "      <td>1</td>\n",
       "      <td>112542.58</td>\n",
       "    </tr>\n",
       "    <tr>\n",
       "      <th>2</th>\n",
       "      <td>502</td>\n",
       "      <td>France</td>\n",
       "      <td>Female</td>\n",
       "      <td>42</td>\n",
       "      <td>8</td>\n",
       "      <td>159660.80</td>\n",
       "      <td>3</td>\n",
       "      <td>1</td>\n",
       "      <td>0</td>\n",
       "      <td>113931.57</td>\n",
       "    </tr>\n",
       "    <tr>\n",
       "      <th>3</th>\n",
       "      <td>699</td>\n",
       "      <td>France</td>\n",
       "      <td>Female</td>\n",
       "      <td>39</td>\n",
       "      <td>1</td>\n",
       "      <td>0.00</td>\n",
       "      <td>2</td>\n",
       "      <td>0</td>\n",
       "      <td>0</td>\n",
       "      <td>93826.63</td>\n",
       "    </tr>\n",
       "    <tr>\n",
       "      <th>4</th>\n",
       "      <td>850</td>\n",
       "      <td>Spain</td>\n",
       "      <td>Female</td>\n",
       "      <td>43</td>\n",
       "      <td>2</td>\n",
       "      <td>125510.82</td>\n",
       "      <td>1</td>\n",
       "      <td>1</td>\n",
       "      <td>1</td>\n",
       "      <td>79084.10</td>\n",
       "    </tr>\n",
       "  </tbody>\n",
       "</table>\n",
       "</div>"
      ],
      "text/plain": [
       "   CreditScore Geography  Gender  Age  Tenure    Balance  NumOfProducts  \\\n",
       "0          619    France  Female   42       2       0.00              1   \n",
       "1          608     Spain  Female   41       1   83807.86              1   \n",
       "2          502    France  Female   42       8  159660.80              3   \n",
       "3          699    France  Female   39       1       0.00              2   \n",
       "4          850     Spain  Female   43       2  125510.82              1   \n",
       "\n",
       "   HasCrCard  IsActiveMember  EstimatedSalary  \n",
       "0          1               1        101348.88  \n",
       "1          0               1        112542.58  \n",
       "2          1               0        113931.57  \n",
       "3          0               0         93826.63  \n",
       "4          1               1         79084.10  "
      ]
     },
     "execution_count": 6,
     "metadata": {},
     "output_type": "execute_result"
    }
   ],
   "source": [
    "X.head()"
   ]
  },
  {
   "cell_type": "code",
   "execution_count": 9,
   "metadata": {},
   "outputs": [
    {
     "data": {
      "text/plain": [
       "0    1\n",
       "1    0\n",
       "2    1\n",
       "3    0\n",
       "4    0\n",
       "Name: Exited, dtype: int64"
      ]
     },
     "execution_count": 9,
     "metadata": {},
     "output_type": "execute_result"
    }
   ],
   "source": [
    "y.head()"
   ]
  },
  {
   "cell_type": "code",
   "execution_count": 10,
   "metadata": {},
   "outputs": [],
   "source": [
    "# Creating the dummy values for Geography and Gender column\n",
    "geography = pd.get_dummies(X[\"Geography\"], drop_first=True)\n",
    "gender = pd.get_dummies(X[\"Gender\"], drop_first=True)"
   ]
  },
  {
   "cell_type": "code",
   "execution_count": 11,
   "metadata": {},
   "outputs": [],
   "source": [
    "# Concatenate the Data Frames\n",
    "X = pd.concat([X, geography, gender], axis = 1)"
   ]
  },
  {
   "cell_type": "code",
   "execution_count": 12,
   "metadata": {},
   "outputs": [
    {
     "data": {
      "text/html": [
       "<div>\n",
       "<style scoped>\n",
       "    .dataframe tbody tr th:only-of-type {\n",
       "        vertical-align: middle;\n",
       "    }\n",
       "\n",
       "    .dataframe tbody tr th {\n",
       "        vertical-align: top;\n",
       "    }\n",
       "\n",
       "    .dataframe thead th {\n",
       "        text-align: right;\n",
       "    }\n",
       "</style>\n",
       "<table border=\"1\" class=\"dataframe\">\n",
       "  <thead>\n",
       "    <tr style=\"text-align: right;\">\n",
       "      <th></th>\n",
       "      <th>CreditScore</th>\n",
       "      <th>Geography</th>\n",
       "      <th>Gender</th>\n",
       "      <th>Age</th>\n",
       "      <th>Tenure</th>\n",
       "      <th>Balance</th>\n",
       "      <th>NumOfProducts</th>\n",
       "      <th>HasCrCard</th>\n",
       "      <th>IsActiveMember</th>\n",
       "      <th>EstimatedSalary</th>\n",
       "      <th>Germany</th>\n",
       "      <th>Spain</th>\n",
       "      <th>Male</th>\n",
       "    </tr>\n",
       "  </thead>\n",
       "  <tbody>\n",
       "    <tr>\n",
       "      <th>0</th>\n",
       "      <td>619</td>\n",
       "      <td>France</td>\n",
       "      <td>Female</td>\n",
       "      <td>42</td>\n",
       "      <td>2</td>\n",
       "      <td>0.00</td>\n",
       "      <td>1</td>\n",
       "      <td>1</td>\n",
       "      <td>1</td>\n",
       "      <td>101348.88</td>\n",
       "      <td>0</td>\n",
       "      <td>0</td>\n",
       "      <td>0</td>\n",
       "    </tr>\n",
       "    <tr>\n",
       "      <th>1</th>\n",
       "      <td>608</td>\n",
       "      <td>Spain</td>\n",
       "      <td>Female</td>\n",
       "      <td>41</td>\n",
       "      <td>1</td>\n",
       "      <td>83807.86</td>\n",
       "      <td>1</td>\n",
       "      <td>0</td>\n",
       "      <td>1</td>\n",
       "      <td>112542.58</td>\n",
       "      <td>0</td>\n",
       "      <td>1</td>\n",
       "      <td>0</td>\n",
       "    </tr>\n",
       "    <tr>\n",
       "      <th>2</th>\n",
       "      <td>502</td>\n",
       "      <td>France</td>\n",
       "      <td>Female</td>\n",
       "      <td>42</td>\n",
       "      <td>8</td>\n",
       "      <td>159660.80</td>\n",
       "      <td>3</td>\n",
       "      <td>1</td>\n",
       "      <td>0</td>\n",
       "      <td>113931.57</td>\n",
       "      <td>0</td>\n",
       "      <td>0</td>\n",
       "      <td>0</td>\n",
       "    </tr>\n",
       "    <tr>\n",
       "      <th>3</th>\n",
       "      <td>699</td>\n",
       "      <td>France</td>\n",
       "      <td>Female</td>\n",
       "      <td>39</td>\n",
       "      <td>1</td>\n",
       "      <td>0.00</td>\n",
       "      <td>2</td>\n",
       "      <td>0</td>\n",
       "      <td>0</td>\n",
       "      <td>93826.63</td>\n",
       "      <td>0</td>\n",
       "      <td>0</td>\n",
       "      <td>0</td>\n",
       "    </tr>\n",
       "    <tr>\n",
       "      <th>4</th>\n",
       "      <td>850</td>\n",
       "      <td>Spain</td>\n",
       "      <td>Female</td>\n",
       "      <td>43</td>\n",
       "      <td>2</td>\n",
       "      <td>125510.82</td>\n",
       "      <td>1</td>\n",
       "      <td>1</td>\n",
       "      <td>1</td>\n",
       "      <td>79084.10</td>\n",
       "      <td>0</td>\n",
       "      <td>1</td>\n",
       "      <td>0</td>\n",
       "    </tr>\n",
       "  </tbody>\n",
       "</table>\n",
       "</div>"
      ],
      "text/plain": [
       "   CreditScore Geography  Gender  Age  Tenure    Balance  NumOfProducts  \\\n",
       "0          619    France  Female   42       2       0.00              1   \n",
       "1          608     Spain  Female   41       1   83807.86              1   \n",
       "2          502    France  Female   42       8  159660.80              3   \n",
       "3          699    France  Female   39       1       0.00              2   \n",
       "4          850     Spain  Female   43       2  125510.82              1   \n",
       "\n",
       "   HasCrCard  IsActiveMember  EstimatedSalary  Germany  Spain  Male  \n",
       "0          1               1        101348.88        0      0     0  \n",
       "1          0               1        112542.58        0      1     0  \n",
       "2          1               0        113931.57        0      0     0  \n",
       "3          0               0         93826.63        0      0     0  \n",
       "4          1               1         79084.10        0      1     0  "
      ]
     },
     "execution_count": 12,
     "metadata": {},
     "output_type": "execute_result"
    }
   ],
   "source": [
    "X.head()"
   ]
  },
  {
   "cell_type": "code",
   "execution_count": 13,
   "metadata": {},
   "outputs": [],
   "source": [
    "# Dropping the Original columns because We have generated the dummy values\n",
    "X = X.drop([\"Geography\", \"Gender\"], axis = 1)"
   ]
  },
  {
   "cell_type": "code",
   "execution_count": 14,
   "metadata": {},
   "outputs": [
    {
     "data": {
      "text/html": [
       "<div>\n",
       "<style scoped>\n",
       "    .dataframe tbody tr th:only-of-type {\n",
       "        vertical-align: middle;\n",
       "    }\n",
       "\n",
       "    .dataframe tbody tr th {\n",
       "        vertical-align: top;\n",
       "    }\n",
       "\n",
       "    .dataframe thead th {\n",
       "        text-align: right;\n",
       "    }\n",
       "</style>\n",
       "<table border=\"1\" class=\"dataframe\">\n",
       "  <thead>\n",
       "    <tr style=\"text-align: right;\">\n",
       "      <th></th>\n",
       "      <th>CreditScore</th>\n",
       "      <th>Age</th>\n",
       "      <th>Tenure</th>\n",
       "      <th>Balance</th>\n",
       "      <th>NumOfProducts</th>\n",
       "      <th>HasCrCard</th>\n",
       "      <th>IsActiveMember</th>\n",
       "      <th>EstimatedSalary</th>\n",
       "      <th>Germany</th>\n",
       "      <th>Spain</th>\n",
       "      <th>Male</th>\n",
       "    </tr>\n",
       "  </thead>\n",
       "  <tbody>\n",
       "    <tr>\n",
       "      <th>0</th>\n",
       "      <td>619</td>\n",
       "      <td>42</td>\n",
       "      <td>2</td>\n",
       "      <td>0.00</td>\n",
       "      <td>1</td>\n",
       "      <td>1</td>\n",
       "      <td>1</td>\n",
       "      <td>101348.88</td>\n",
       "      <td>0</td>\n",
       "      <td>0</td>\n",
       "      <td>0</td>\n",
       "    </tr>\n",
       "    <tr>\n",
       "      <th>1</th>\n",
       "      <td>608</td>\n",
       "      <td>41</td>\n",
       "      <td>1</td>\n",
       "      <td>83807.86</td>\n",
       "      <td>1</td>\n",
       "      <td>0</td>\n",
       "      <td>1</td>\n",
       "      <td>112542.58</td>\n",
       "      <td>0</td>\n",
       "      <td>1</td>\n",
       "      <td>0</td>\n",
       "    </tr>\n",
       "    <tr>\n",
       "      <th>2</th>\n",
       "      <td>502</td>\n",
       "      <td>42</td>\n",
       "      <td>8</td>\n",
       "      <td>159660.80</td>\n",
       "      <td>3</td>\n",
       "      <td>1</td>\n",
       "      <td>0</td>\n",
       "      <td>113931.57</td>\n",
       "      <td>0</td>\n",
       "      <td>0</td>\n",
       "      <td>0</td>\n",
       "    </tr>\n",
       "    <tr>\n",
       "      <th>3</th>\n",
       "      <td>699</td>\n",
       "      <td>39</td>\n",
       "      <td>1</td>\n",
       "      <td>0.00</td>\n",
       "      <td>2</td>\n",
       "      <td>0</td>\n",
       "      <td>0</td>\n",
       "      <td>93826.63</td>\n",
       "      <td>0</td>\n",
       "      <td>0</td>\n",
       "      <td>0</td>\n",
       "    </tr>\n",
       "    <tr>\n",
       "      <th>4</th>\n",
       "      <td>850</td>\n",
       "      <td>43</td>\n",
       "      <td>2</td>\n",
       "      <td>125510.82</td>\n",
       "      <td>1</td>\n",
       "      <td>1</td>\n",
       "      <td>1</td>\n",
       "      <td>79084.10</td>\n",
       "      <td>0</td>\n",
       "      <td>1</td>\n",
       "      <td>0</td>\n",
       "    </tr>\n",
       "  </tbody>\n",
       "</table>\n",
       "</div>"
      ],
      "text/plain": [
       "   CreditScore  Age  Tenure    Balance  NumOfProducts  HasCrCard  \\\n",
       "0          619   42       2       0.00              1          1   \n",
       "1          608   41       1   83807.86              1          0   \n",
       "2          502   42       8  159660.80              3          1   \n",
       "3          699   39       1       0.00              2          0   \n",
       "4          850   43       2  125510.82              1          1   \n",
       "\n",
       "   IsActiveMember  EstimatedSalary  Germany  Spain  Male  \n",
       "0               1        101348.88        0      0     0  \n",
       "1               1        112542.58        0      1     0  \n",
       "2               0        113931.57        0      0     0  \n",
       "3               0         93826.63        0      0     0  \n",
       "4               1         79084.10        0      1     0  "
      ]
     },
     "execution_count": 14,
     "metadata": {},
     "output_type": "execute_result"
    }
   ],
   "source": [
    "X.head()"
   ]
  },
  {
   "cell_type": "code",
   "execution_count": 56,
   "metadata": {},
   "outputs": [],
   "source": [
    "# Splitting the data into Training and Testing set\n",
    "from sklearn.model_selection import train_test_split\n",
    "X_train, X_test, Y_train, Y_test = train_test_split(X, y, test_size = 0.2, random_state = 0)"
   ]
  },
  {
   "cell_type": "code",
   "execution_count": 16,
   "metadata": {},
   "outputs": [],
   "source": [
    "# Feature Scaling\n",
    "from sklearn.preprocessing import StandardScaler\n",
    "sc = StandardScaler()\n",
    "X_train = sc.fit(X_train)\n",
    "X_test = sc.fit(X_test)"
   ]
  },
  {
   "cell_type": "markdown",
   "metadata": {},
   "source": [
    "## Part - 2\n",
    "\n",
    "> Now lets make the ANN"
   ]
  },
  {
   "cell_type": "code",
   "execution_count": 17,
   "metadata": {},
   "outputs": [],
   "source": [
    "# Importing Keras libraries and packages\n",
    "import keras\n",
    "from keras.models import Sequential\n",
    "from keras.layers import Dense\n",
    "from keras.layers import Dropout"
   ]
  },
  {
   "cell_type": "code",
   "execution_count": 18,
   "metadata": {},
   "outputs": [],
   "source": [
    "# Initializing the ANN\n",
    "classifier = Sequential()"
   ]
  },
  {
   "cell_type": "code",
   "execution_count": 20,
   "metadata": {},
   "outputs": [],
   "source": [
    "# Adding the input layer and the first hidden layer\n",
    "classifier.add(Dense(units = 6, kernel_initializer = \"he_uniform\", activation = \"relu\", input_dim = 11))"
   ]
  },
  {
   "cell_type": "code",
   "execution_count": 21,
   "metadata": {},
   "outputs": [],
   "source": [
    "# Adding the second hidden layer\n",
    "classifier.add(Dense(units = 6, kernel_initializer = \"he_uniform\", activation = \"relu\"))"
   ]
  },
  {
   "cell_type": "code",
   "execution_count": 24,
   "metadata": {},
   "outputs": [],
   "source": [
    "# Adding the output layer\n",
    "classifier.add(Dense(units = 1, kernel_initializer = \"glorot_uniform\", activation = 'sigmoid'))"
   ]
  },
  {
   "cell_type": "code",
   "execution_count": 28,
   "metadata": {},
   "outputs": [
    {
     "name": "stdout",
     "output_type": "stream",
     "text": [
      "Model: \"sequential\"\n",
      "_________________________________________________________________\n",
      "Layer (type)                 Output Shape              Param #   \n",
      "=================================================================\n",
      "dense (Dense)                (None, 6)                 72        \n",
      "_________________________________________________________________\n",
      "dense_1 (Dense)              (None, 6)                 42        \n",
      "_________________________________________________________________\n",
      "dense_2 (Dense)              (None, 1)                 7         \n",
      "=================================================================\n",
      "Total params: 121\n",
      "Trainable params: 121\n",
      "Non-trainable params: 0\n",
      "_________________________________________________________________\n"
     ]
    }
   ],
   "source": [
    "classifier.summary()"
   ]
  },
  {
   "cell_type": "code",
   "execution_count": 35,
   "metadata": {},
   "outputs": [],
   "source": [
    "# Compiling the ANN\n",
    "classifier.compile(optimizer='adam', loss = 'binary_crossentropy', metrics = ['accuracy'])"
   ]
  },
  {
   "cell_type": "code",
   "execution_count": 54,
   "metadata": {},
   "outputs": [
    {
     "data": {
      "text/plain": [
       "array([0, 0, 0, ..., 0, 0, 1], dtype=int64)"
      ]
     },
     "execution_count": 54,
     "metadata": {},
     "output_type": "execute_result"
    }
   ],
   "source": [
    "\n",
    "np.asarray(Y_train)"
   ]
  },
  {
   "cell_type": "code",
   "execution_count": 57,
   "metadata": {},
   "outputs": [
    {
     "name": "stdout",
     "output_type": "stream",
     "text": [
      "Epoch 1/100\n",
      "536/536 [==============================] - 1s 1ms/step - loss: 3068.9702 - accuracy: 0.5787 - val_loss: 314.2099 - val_accuracy: 0.4786\n",
      "Epoch 2/100\n",
      "536/536 [==============================] - 1s 952us/step - loss: 87.5705 - accuracy: 0.6733 - val_loss: 23.9771 - val_accuracy: 0.5990\n",
      "Epoch 3/100\n",
      "536/536 [==============================] - 1s 960us/step - loss: 24.5321 - accuracy: 0.6930 - val_loss: 12.1295 - val_accuracy: 0.5131\n",
      "Epoch 4/100\n",
      "536/536 [==============================] - 1s 971us/step - loss: 16.7135 - accuracy: 0.7001 - val_loss: 14.1514 - val_accuracy: 0.3226\n",
      "Epoch 5/100\n",
      "536/536 [==============================] - 1s 963us/step - loss: 14.8318 - accuracy: 0.6897 - val_loss: 6.1469 - val_accuracy: 0.7921\n",
      "Epoch 6/100\n",
      "536/536 [==============================] - 1s 985us/step - loss: 14.2179 - accuracy: 0.6975 - val_loss: 6.5657 - val_accuracy: 0.7944\n",
      "Epoch 7/100\n",
      "536/536 [==============================] - 1s 1ms/step - loss: 14.4581 - accuracy: 0.6947 - val_loss: 6.5056 - val_accuracy: 0.7952\n",
      "Epoch 8/100\n",
      "536/536 [==============================] - 1s 1ms/step - loss: 16.8952 - accuracy: 0.6891 - val_loss: 3.4595 - val_accuracy: 0.7887\n",
      "Epoch 9/100\n",
      "536/536 [==============================] - 1s 939us/step - loss: 11.6978 - accuracy: 0.6796 - val_loss: 1.9569 - val_accuracy: 0.7156\n",
      "Epoch 10/100\n",
      "536/536 [==============================] - 1s 1ms/step - loss: 13.7989 - accuracy: 0.6826 - val_loss: 2.6875 - val_accuracy: 0.5373\n",
      "Epoch 11/100\n",
      "536/536 [==============================] - 1s 941us/step - loss: 13.0147 - accuracy: 0.6846 - val_loss: 3.6509 - val_accuracy: 0.7486\n",
      "Epoch 12/100\n",
      "536/536 [==============================] - 1s 975us/step - loss: 11.3828 - accuracy: 0.6822 - val_loss: 12.5935 - val_accuracy: 0.7955\n",
      "Epoch 13/100\n",
      "536/536 [==============================] - 1s 955us/step - loss: 13.1828 - accuracy: 0.6794 - val_loss: 0.5807 - val_accuracy: 0.7524\n",
      "Epoch 14/100\n",
      "536/536 [==============================] - 1s 947us/step - loss: 9.8557 - accuracy: 0.6755 - val_loss: 19.9207 - val_accuracy: 0.7940\n",
      "Epoch 15/100\n",
      "536/536 [==============================] - 1s 971us/step - loss: 11.0682 - accuracy: 0.6678 - val_loss: 0.9245 - val_accuracy: 0.7936\n",
      "Epoch 16/100\n",
      "536/536 [==============================] - 1s 1ms/step - loss: 7.9188 - accuracy: 0.6656 - val_loss: 2.4683 - val_accuracy: 0.7936\n",
      "Epoch 17/100\n",
      "536/536 [==============================] - 1s 1ms/step - loss: 12.3183 - accuracy: 0.6733 - val_loss: 9.0952 - val_accuracy: 0.7936\n",
      "Epoch 18/100\n",
      "536/536 [==============================] - 1s 970us/step - loss: 6.4971 - accuracy: 0.6656 - val_loss: 14.4184 - val_accuracy: 0.7819\n",
      "Epoch 19/100\n",
      "536/536 [==============================] - 1s 989us/step - loss: 7.4805 - accuracy: 0.6664 - val_loss: 1.3466 - val_accuracy: 0.7853\n",
      "Epoch 20/100\n",
      "536/536 [==============================] - 1s 966us/step - loss: 6.3865 - accuracy: 0.6682 - val_loss: 4.0871 - val_accuracy: 0.7857\n",
      "Epoch 21/100\n",
      "536/536 [==============================] - 1s 981us/step - loss: 4.5970 - accuracy: 0.6751 - val_loss: 12.4620 - val_accuracy: 0.7800\n",
      "Epoch 22/100\n",
      "536/536 [==============================] - 1s 1ms/step - loss: 4.6896 - accuracy: 0.6783 - val_loss: 1.5930 - val_accuracy: 0.7921\n",
      "Epoch 23/100\n",
      "536/536 [==============================] - 1s 987us/step - loss: 4.4345 - accuracy: 0.6792 - val_loss: 3.3586 - val_accuracy: 0.7808\n",
      "Epoch 24/100\n",
      "536/536 [==============================] - 1s 957us/step - loss: 3.2589 - accuracy: 0.6901 - val_loss: 1.8902 - val_accuracy: 0.7815\n",
      "Epoch 25/100\n",
      "536/536 [==============================] - 1s 1ms/step - loss: 3.0436 - accuracy: 0.7035 - val_loss: 2.7968 - val_accuracy: 0.3097\n",
      "Epoch 26/100\n",
      "536/536 [==============================] - 1s 1ms/step - loss: 3.3947 - accuracy: 0.6958 - val_loss: 0.6980 - val_accuracy: 0.6725\n",
      "Epoch 27/100\n",
      "536/536 [==============================] - 1s 996us/step - loss: 2.7265 - accuracy: 0.7072 - val_loss: 3.4267 - val_accuracy: 0.7686\n",
      "Epoch 28/100\n",
      "536/536 [==============================] - 1s 967us/step - loss: 3.1321 - accuracy: 0.7048 - val_loss: 3.9290 - val_accuracy: 0.7929\n",
      "Epoch 29/100\n",
      "536/536 [==============================] - 1s 996us/step - loss: 2.1530 - accuracy: 0.7221 - val_loss: 0.5189 - val_accuracy: 0.7917\n",
      "Epoch 30/100\n",
      "536/536 [==============================] - 1s 968us/step - loss: 2.4988 - accuracy: 0.7214 - val_loss: 0.6161 - val_accuracy: 0.7811\n",
      "Epoch 31/100\n",
      "536/536 [==============================] - 1s 961us/step - loss: 2.0195 - accuracy: 0.7240 - val_loss: 0.9286 - val_accuracy: 0.4646\n",
      "Epoch 32/100\n",
      "536/536 [==============================] - 1s 988us/step - loss: 1.7057 - accuracy: 0.7326 - val_loss: 0.7561 - val_accuracy: 0.7952\n",
      "Epoch 33/100\n",
      "536/536 [==============================] - 1s 982us/step - loss: 1.3604 - accuracy: 0.7464 - val_loss: 0.9055 - val_accuracy: 0.5415\n",
      "Epoch 34/100\n",
      "536/536 [==============================] - 1s 953us/step - loss: 1.1484 - accuracy: 0.7535 - val_loss: 0.5729 - val_accuracy: 0.7952\n",
      "Epoch 35/100\n",
      "536/536 [==============================] - 1s 950us/step - loss: 1.0067 - accuracy: 0.7630 - val_loss: 0.5380 - val_accuracy: 0.7952\n",
      "Epoch 36/100\n",
      "536/536 [==============================] - 1s 1ms/step - loss: 0.8565 - accuracy: 0.7695 - val_loss: 2.4166 - val_accuracy: 0.7952\n",
      "Epoch 37/100\n",
      "536/536 [==============================] - 0s 918us/step - loss: 0.7755 - accuracy: 0.7770 - val_loss: 0.5347 - val_accuracy: 0.7952\n",
      "Epoch 38/100\n",
      "536/536 [==============================] - 1s 976us/step - loss: 0.6740 - accuracy: 0.7757 - val_loss: 0.5083 - val_accuracy: 0.7952\n",
      "Epoch 39/100\n",
      "536/536 [==============================] - 1s 984us/step - loss: 0.6272 - accuracy: 0.7830 - val_loss: 1.1374 - val_accuracy: 0.7952\n",
      "Epoch 40/100\n",
      "536/536 [==============================] - 1s 1000us/step - loss: 0.6748 - accuracy: 0.7817 - val_loss: 0.7136 - val_accuracy: 0.7952\n",
      "Epoch 41/100\n",
      "536/536 [==============================] - 1s 973us/step - loss: 0.5305 - accuracy: 0.7893 - val_loss: 0.5085 - val_accuracy: 0.7952\n",
      "Epoch 42/100\n",
      "536/536 [==============================] - 1s 992us/step - loss: 0.5059 - accuracy: 0.7955 - val_loss: 0.5096 - val_accuracy: 0.7952\n",
      "Epoch 43/100\n",
      "536/536 [==============================] - 0s 932us/step - loss: 0.5048 - accuracy: 0.7962 - val_loss: 0.5124 - val_accuracy: 0.7952\n",
      "Epoch 44/100\n",
      "536/536 [==============================] - 1s 987us/step - loss: 0.5062 - accuracy: 0.7962 - val_loss: 0.5115 - val_accuracy: 0.7952\n",
      "Epoch 45/100\n",
      "536/536 [==============================] - 1s 947us/step - loss: 0.5057 - accuracy: 0.7962 - val_loss: 0.5113 - val_accuracy: 0.7952\n",
      "Epoch 46/100\n",
      "536/536 [==============================] - 1s 1ms/step - loss: 0.5056 - accuracy: 0.7962 - val_loss: 0.5113 - val_accuracy: 0.7952\n",
      "Epoch 47/100\n",
      "536/536 [==============================] - 1s 959us/step - loss: 0.5056 - accuracy: 0.7962 - val_loss: 0.5113 - val_accuracy: 0.7952\n",
      "Epoch 48/100\n",
      "536/536 [==============================] - 1s 972us/step - loss: 0.5057 - accuracy: 0.7962 - val_loss: 0.5113 - val_accuracy: 0.7952\n",
      "Epoch 49/100\n",
      "536/536 [==============================] - 1s 964us/step - loss: 0.5057 - accuracy: 0.7962 - val_loss: 0.5113 - val_accuracy: 0.7952\n",
      "Epoch 50/100\n",
      "536/536 [==============================] - 1s 1000us/step - loss: 0.5057 - accuracy: 0.7962 - val_loss: 0.5113 - val_accuracy: 0.7952\n",
      "Epoch 51/100\n",
      "536/536 [==============================] - 1s 964us/step - loss: 0.5057 - accuracy: 0.7962 - val_loss: 0.5113 - val_accuracy: 0.7952\n",
      "Epoch 52/100\n",
      "536/536 [==============================] - 1s 948us/step - loss: 0.5056 - accuracy: 0.7962 - val_loss: 0.5113 - val_accuracy: 0.7952\n",
      "Epoch 53/100\n",
      "536/536 [==============================] - 1s 950us/step - loss: 0.5057 - accuracy: 0.7962 - val_loss: 0.5113 - val_accuracy: 0.7952\n",
      "Epoch 54/100\n",
      "536/536 [==============================] - 1s 948us/step - loss: 0.5056 - accuracy: 0.7962 - val_loss: 0.5113 - val_accuracy: 0.7952\n",
      "Epoch 55/100\n",
      "536/536 [==============================] - 1s 963us/step - loss: 0.5057 - accuracy: 0.7962 - val_loss: 0.5113 - val_accuracy: 0.7952\n",
      "Epoch 56/100\n",
      "536/536 [==============================] - 1s 1ms/step - loss: 0.5057 - accuracy: 0.7962 - val_loss: 0.5113 - val_accuracy: 0.7952\n",
      "Epoch 57/100\n"
     ]
    },
    {
     "name": "stdout",
     "output_type": "stream",
     "text": [
      "536/536 [==============================] - 1s 950us/step - loss: 0.5057 - accuracy: 0.7962 - val_loss: 0.5113 - val_accuracy: 0.7952\n",
      "Epoch 58/100\n",
      "536/536 [==============================] - 0s 904us/step - loss: 0.5057 - accuracy: 0.7962 - val_loss: 0.5113 - val_accuracy: 0.7952\n",
      "Epoch 59/100\n",
      "536/536 [==============================] - 1s 972us/step - loss: 0.5057 - accuracy: 0.7962 - val_loss: 0.5113 - val_accuracy: 0.7952\n",
      "Epoch 60/100\n",
      "536/536 [==============================] - 1s 946us/step - loss: 0.5057 - accuracy: 0.7962 - val_loss: 0.5113 - val_accuracy: 0.7952\n",
      "Epoch 61/100\n",
      "536/536 [==============================] - 1s 972us/step - loss: 0.5057 - accuracy: 0.7962 - val_loss: 0.5113 - val_accuracy: 0.7952\n",
      "Epoch 62/100\n",
      "536/536 [==============================] - 0s 920us/step - loss: 0.5056 - accuracy: 0.7962 - val_loss: 0.5113 - val_accuracy: 0.7952\n",
      "Epoch 63/100\n",
      "536/536 [==============================] - 1s 979us/step - loss: 0.5057 - accuracy: 0.7962 - val_loss: 0.5113 - val_accuracy: 0.7952\n",
      "Epoch 64/100\n",
      "536/536 [==============================] - 0s 917us/step - loss: 0.5057 - accuracy: 0.7962 - val_loss: 0.5113 - val_accuracy: 0.7952\n",
      "Epoch 65/100\n",
      "536/536 [==============================] - 1s 954us/step - loss: 0.5057 - accuracy: 0.7962 - val_loss: 0.5113 - val_accuracy: 0.7952\n",
      "Epoch 66/100\n",
      "536/536 [==============================] - 1s 1ms/step - loss: 0.5057 - accuracy: 0.7962 - val_loss: 0.5113 - val_accuracy: 0.7952\n",
      "Epoch 67/100\n",
      "536/536 [==============================] - 1s 959us/step - loss: 0.5057 - accuracy: 0.7962 - val_loss: 0.5113 - val_accuracy: 0.7952\n",
      "Epoch 68/100\n",
      "536/536 [==============================] - 0s 918us/step - loss: 0.5056 - accuracy: 0.7962 - val_loss: 0.5113 - val_accuracy: 0.7952\n",
      "Epoch 69/100\n",
      "536/536 [==============================] - 1s 940us/step - loss: 0.5057 - accuracy: 0.7962 - val_loss: 0.5113 - val_accuracy: 0.7952\n",
      "Epoch 70/100\n",
      "536/536 [==============================] - 0s 924us/step - loss: 0.5057 - accuracy: 0.7962 - val_loss: 0.5113 - val_accuracy: 0.7952\n",
      "Epoch 71/100\n",
      "536/536 [==============================] - 1s 992us/step - loss: 0.5057 - accuracy: 0.7962 - val_loss: 0.5113 - val_accuracy: 0.7952\n",
      "Epoch 72/100\n",
      "536/536 [==============================] - 0s 904us/step - loss: 0.5057 - accuracy: 0.7962 - val_loss: 0.5113 - val_accuracy: 0.7952\n",
      "Epoch 73/100\n",
      "536/536 [==============================] - 1s 979us/step - loss: 0.5057 - accuracy: 0.7962 - val_loss: 0.5113 - val_accuracy: 0.7952\n",
      "Epoch 74/100\n",
      "536/536 [==============================] - 0s 921us/step - loss: 0.5057 - accuracy: 0.7962 - val_loss: 0.5113 - val_accuracy: 0.7952\n",
      "Epoch 75/100\n",
      "536/536 [==============================] - 1s 974us/step - loss: 0.5058 - accuracy: 0.7962 - val_loss: 0.5113 - val_accuracy: 0.7952\n",
      "Epoch 76/100\n",
      "536/536 [==============================] - 1s 1ms/step - loss: 0.5057 - accuracy: 0.7962 - val_loss: 0.5114 - val_accuracy: 0.7952\n",
      "Epoch 77/100\n",
      "536/536 [==============================] - 1s 956us/step - loss: 0.5057 - accuracy: 0.7962 - val_loss: 0.5113 - val_accuracy: 0.7952\n",
      "Epoch 78/100\n",
      "536/536 [==============================] - 1s 949us/step - loss: 0.5057 - accuracy: 0.7962 - val_loss: 0.5113 - val_accuracy: 0.7952\n",
      "Epoch 79/100\n",
      "536/536 [==============================] - 0s 933us/step - loss: 0.5057 - accuracy: 0.7962 - val_loss: 0.5113 - val_accuracy: 0.7952\n",
      "Epoch 80/100\n",
      "536/536 [==============================] - 1s 952us/step - loss: 0.5057 - accuracy: 0.7962 - val_loss: 0.5113 - val_accuracy: 0.7952\n",
      "Epoch 81/100\n",
      "536/536 [==============================] - 1s 944us/step - loss: 0.5058 - accuracy: 0.7962 - val_loss: 0.5113 - val_accuracy: 0.7952\n",
      "Epoch 82/100\n",
      "536/536 [==============================] - 1s 956us/step - loss: 0.5057 - accuracy: 0.7962 - val_loss: 0.5113 - val_accuracy: 0.7952\n",
      "Epoch 83/100\n",
      "536/536 [==============================] - 1s 967us/step - loss: 0.5057 - accuracy: 0.7962 - val_loss: 0.5113 - val_accuracy: 0.7952\n",
      "Epoch 84/100\n",
      "536/536 [==============================] - 1s 940us/step - loss: 0.5057 - accuracy: 0.7962 - val_loss: 0.5113 - val_accuracy: 0.7952\n",
      "Epoch 85/100\n",
      "536/536 [==============================] - 0s 932us/step - loss: 0.5057 - accuracy: 0.7962 - val_loss: 0.5113 - val_accuracy: 0.7952\n",
      "Epoch 86/100\n",
      "536/536 [==============================] - 1s 1ms/step - loss: 0.5057 - accuracy: 0.7962 - val_loss: 0.5114 - val_accuracy: 0.7952\n",
      "Epoch 87/100\n",
      "536/536 [==============================] - 1s 936us/step - loss: 0.5057 - accuracy: 0.7962 - val_loss: 0.5113 - val_accuracy: 0.7952\n",
      "Epoch 88/100\n",
      "536/536 [==============================] - 1s 947us/step - loss: 0.5057 - accuracy: 0.7962 - val_loss: 0.5113 - val_accuracy: 0.7952\n",
      "Epoch 89/100\n",
      "536/536 [==============================] - 1s 937us/step - loss: 0.5057 - accuracy: 0.7962 - val_loss: 0.5113 - val_accuracy: 0.7952\n",
      "Epoch 90/100\n",
      "536/536 [==============================] - 1s 955us/step - loss: 0.5057 - accuracy: 0.7962 - val_loss: 0.5113 - val_accuracy: 0.7952\n",
      "Epoch 91/100\n",
      "536/536 [==============================] - 1s 948us/step - loss: 0.5057 - accuracy: 0.7962 - val_loss: 0.5114 - val_accuracy: 0.7952\n",
      "Epoch 92/100\n",
      "536/536 [==============================] - 1s 967us/step - loss: 0.5057 - accuracy: 0.7962 - val_loss: 0.5113 - val_accuracy: 0.7952\n",
      "Epoch 93/100\n",
      "536/536 [==============================] - 1s 935us/step - loss: 0.5057 - accuracy: 0.7962 - val_loss: 0.5113 - val_accuracy: 0.7952\n",
      "Epoch 94/100\n",
      "536/536 [==============================] - 1s 976us/step - loss: 0.5057 - accuracy: 0.7962 - val_loss: 0.5113 - val_accuracy: 0.7952\n",
      "Epoch 95/100\n",
      "536/536 [==============================] - 1s 976us/step - loss: 0.5057 - accuracy: 0.7962 - val_loss: 0.5113 - val_accuracy: 0.7952\n",
      "Epoch 96/100\n",
      "536/536 [==============================] - 1s 1ms/step - loss: 0.5057 - accuracy: 0.7962 - val_loss: 0.5113 - val_accuracy: 0.7952\n",
      "Epoch 97/100\n",
      "536/536 [==============================] - 1s 1ms/step - loss: 0.5057 - accuracy: 0.7962 - val_loss: 0.5113 - val_accuracy: 0.7952\n",
      "Epoch 98/100\n",
      "536/536 [==============================] - 1s 1ms/step - loss: 0.5057 - accuracy: 0.7962 - val_loss: 0.5113 - val_accuracy: 0.7952\n",
      "Epoch 99/100\n",
      "536/536 [==============================] - 1s 1ms/step - loss: 0.5057 - accuracy: 0.7962 - val_loss: 0.5113 - val_accuracy: 0.7952\n",
      "Epoch 100/100\n",
      "536/536 [==============================] - 1s 1ms/step - loss: 0.5057 - accuracy: 0.7962 - val_loss: 0.5113 - val_accuracy: 0.7952\n"
     ]
    }
   ],
   "source": [
    "# Fitting the ANN into the training set\n",
    "model_history = classifier.fit(X_train, Y_train,  batch_size=10, epochs = 100, validation_split= 0.33)"
   ]
  },
  {
   "cell_type": "code",
   "execution_count": 58,
   "metadata": {},
   "outputs": [
    {
     "name": "stdout",
     "output_type": "stream",
     "text": [
      "dict_keys(['loss', 'accuracy', 'val_loss', 'val_accuracy'])\n"
     ]
    }
   ],
   "source": [
    "print(model_history.history.keys())"
   ]
  },
  {
   "cell_type": "code",
   "execution_count": 61,
   "metadata": {},
   "outputs": [
    {
     "data": {
      "image/png": "[encoded data removed]",
      "text/plain": [
       "<Figure size 432x288 with 1 Axes>"
      ]
     },
     "metadata": {
      "needs_background": "light"
     },
     "output_type": "display_data"
    }
   ],
   "source": [
    "# Summarize history for accuracy\n",
    "plt.plot(model_history.history['accuracy'])\n",
    "plt.plot(model_history.history['val_accuracy'])\n",
    "plt.title('model_accuracy')\n",
    "plt.ylabel('accuracy')\n",
    "plt.xlabel('epoch')\n",
    "plt.legend(['train', 'test'], loc='upper left')\n",
    "plt.show()"
   ]
  },
  {
   "cell_type": "code",
   "execution_count": 62,
   "metadata": {},
   "outputs": [],
   "source": [
    "# Predicting the test set results\n",
    "y_pred = classifier.predict(X_test)"
   ]
  },
  {
   "cell_type": "code",
   "execution_count": 64,
   "metadata": {},
   "outputs": [
    {
     "data": {
      "text/plain": [
       "array([[False],\n",
       "       [False],\n",
       "       [False],\n",
       "       ...,\n",
       "       [False],\n",
       "       [False],\n",
       "       [False]])"
      ]
     },
     "execution_count": 64,
     "metadata": {},
     "output_type": "execute_result"
    }
   ],
   "source": [
    "y_pred = (y_pred > 0.5)\n",
    "y_pred"
   ]
  },
  {
   "cell_type": "code",
   "execution_count": 67,
   "metadata": {},
   "outputs": [
    {
     "data": {
      "image/png": "[encoded data removed]",
      "text/plain": [
       "<Figure size 432x288 with 2 Axes>"
      ]
     },
     "metadata": {
      "needs_background": "light"
     },
     "output_type": "display_data"
    }
   ],
   "source": [
    "# Making the confusion matrix\n",
    "from sklearn.metrics import confusion_matrix\n",
    "cm = confusion_matrix(Y_test, y_pred)\n",
    "plt.imshow(cm, cmap=plt.cm.Blues)\n",
    "plt.xlabel(\"Predicted labels\")\n",
    "plt.ylabel(\"True labels\")\n",
    "plt.xticks([], [])\n",
    "plt.yticks([], [])\n",
    "plt.title('Confusion matrix ')\n",
    "plt.colorbar()\n",
    "plt.show()"
   ]
  },
  {
   "cell_type": "code",
   "execution_count": 68,
   "metadata": {},
   "outputs": [],
   "source": [
    "# Calculate the Accuracy\n",
    "from sklearn.metrics import accuracy_score\n",
    "score = accuracy_score(y_pred, Y_test)"
   ]
  },
  {
   "cell_type": "code",
   "execution_count": 69,
   "metadata": {},
   "outputs": [
    {
     "data": {
      "text/plain": [
       "0.7975"
      ]
     },
     "execution_count": 69,
     "metadata": {},
     "output_type": "execute_result"
    }
   ],
   "source": [
    "score"
   ]
  },
  {
   "cell_type": "markdown",
   "metadata": {},
   "source": [
    "## Hyper parameter Tuning to decide number of Hidden Layers"
   ]
  },
  {
   "cell_type": "code",
   "execution_count": 2,
   "metadata": {},
   "outputs": [],
   "source": [
    "# Importing Numpy, Matplotlib and Pandas\n",
    "\n",
    "import numpy as np\n",
    "import pandas as pd\n",
    "import matplotlib.pyplot as plt"
   ]
  },
  {
   "cell_type": "code",
   "execution_count": 3,
   "metadata": {},
   "outputs": [],
   "source": [
    "# Importing dataset\n",
    "\n",
    "dataset = pd.read_csv('Churn_Modelling.csv')\n",
    "X = dataset.iloc[:, 3:13]\n",
    "y = dataset.iloc[:, 13]"
   ]
  },
  {
   "cell_type": "code",
   "execution_count": 4,
   "metadata": {},
   "outputs": [],
   "source": [
    "# Creating the dummy values for Geography and Gender column\n",
    "geography = pd.get_dummies(X[\"Geography\"], drop_first=True)\n",
    "gender = pd.get_dummies(X[\"Gender\"], drop_first=True)"
   ]
  },
  {
   "cell_type": "code",
   "execution_count": 5,
   "metadata": {},
   "outputs": [],
   "source": [
    "# Concatenate the Data Frames\n",
    "X = pd.concat([X, geography, gender], axis = 1)"
   ]
  },
  {
   "cell_type": "code",
   "execution_count": 6,
   "metadata": {},
   "outputs": [],
   "source": [
    "# Dropping the Original columns because We have generated the dummy values\n",
    "X = X.drop([\"Geography\", \"Gender\"], axis = 1)"
   ]
  },
  {
   "cell_type": "code",
   "execution_count": 7,
   "metadata": {},
   "outputs": [],
   "source": [
    "# Splitting the data into Training and Testing set\n",
    "from sklearn.model_selection import train_test_split\n",
    "X_train, X_test, Y_train, Y_test = train_test_split(X, y, test_size = 0.2, random_state = 0)"
   ]
  },
  {
   "cell_type": "code",
   "execution_count": 8,
   "metadata": {},
   "outputs": [],
   "source": [
    "# Performing Hyperparameter Optimization\n",
    "from keras.wrappers.scikit_learn import KerasClassifier\n",
    "from sklearn.model_selection import GridSearchCV"
   ]
  },
  {
   "cell_type": "code",
   "execution_count": 14,
   "metadata": {},
   "outputs": [],
   "source": [
    "from keras.models import Sequential\n",
    "from keras.layers import Dense, Activation, Embedding, Flatten, LeakyReLU, BatchNormalization, Dropout\n",
    "from keras.activations import relu, sigmoid"
   ]
  },
  {
   "cell_type": "code",
   "execution_count": 18,
   "metadata": {},
   "outputs": [],
   "source": [
    "def create_model(layers, activation):\n",
    "    model = Sequential()\n",
    "    for i, nodes in enumerate(layers):\n",
    "        if i == 0:\n",
    "            model.add(Dense(nodes,input_dim = X_train.shape[1] ))\n",
    "            model.add(Activation(activation))\n",
    "            model.add(Dropout(0.3))\n",
    "        else:\n",
    "            model.add(Dense(nodes))\n",
    "            model.add(Activation(activation))\n",
    "            model.add(Dropout(0.3))\n",
    "    \n",
    "    model.add(Dense(units = 1, kernel_initializer = 'glorot_uniform', activation = 'sigmoid'))\n",
    "    model.compile(optimizer='adam', loss = 'binary_crossentropy', metrics = ['accuracy'])\n",
    "    return model"
   ]
  },
  {
   "cell_type": "code",
   "execution_count": 19,
   "metadata": {},
   "outputs": [],
   "source": [
    "model = KerasClassifier(build_fn=create_model, verbose = 0)"
   ]
  },
  {
   "cell_type": "code",
   "execution_count": 20,
   "metadata": {},
   "outputs": [],
   "source": [
    "layers = [[20], [40, 20], [45, 30, 15]]\n",
    "activations = ['sigmoid', 'relu']\n",
    "param_grid = dict(layers = layers, activation = activations, batch_size = [128, 256], epochs = [30])\n",
    "grid = GridSearchCV(estimator=model, param_grid = param_grid, cv=5)"
   ]
  },
  {
   "cell_type": "code",
   "execution_count": 86,
   "metadata": {},
   "outputs": [
    {
     "name": "stdout",
     "output_type": "stream",
     "text": [
      "Collecting scikit-learn==0.21.2\n",
      "  Downloading scikit-learn-0.21.2.tar.gz (12.2 MB)\n",
      "Requirement already satisfied: numpy>=1.11.0 in c:\\python38\\lib\\site-packages (from scikit-learn==0.21.2) (1.18.3)\n",
      "Requirement already satisfied: scipy>=0.17.0 in c:\\python38\\lib\\site-packages (from scikit-learn==0.21.2) (1.4.1)\n",
      "Requirement already satisfied: joblib>=0.11 in c:\\python38\\lib\\site-packages (from scikit-learn==0.21.2) (0.16.0)\n",
      "Building wheels for collected packages: scikit-learn\n",
      "  Building wheel for scikit-learn (setup.py): started\n",
      "  Building wheel for scikit-learn (setup.py): still running...\n",
      "  Building wheel for scikit-learn (setup.py): finished with status 'done'\n",
      "  Created wheel for scikit-learn: filename=scikit_learn-0.21.2-cp38-cp38-win_amd64.whl size=6149079 sha256=b2880f93cd855aba51bc308b860dddc77076228ff671666701e6dbe992425f15\n",
      "  Stored in directory: c:\\users\\deepe\\appdata\\local\\pip\\cache\\wheels\\74\\11\\b6\\c7a521de4f5756beb18d8a02a784ed4c2c330353fdf361dbdc\n",
      "Successfully built scikit-learn\n",
      "Installing collected packages: scikit-learn\n",
      "  Attempting uninstall: scikit-learn\n",
      "    Found existing installation: scikit-learn 0.23.1\n",
      "    Uninstalling scikit-learn-0.23.1:\n",
      "      Successfully uninstalled scikit-learn-0.23.1\n",
      "Note: you may need to restart the kernel to use updated packages.\n"
     ]
    },
    {
     "name": "stderr",
     "output_type": "stream",
     "text": [
      "ERROR: Could not install packages due to an EnvironmentError: [WinError 5] Access is denied: 'C:\\\\Python38\\\\Lib\\\\site-packages\\\\~klearn\\\\.libs\\\\vcomp140.dll'\n",
      "Consider using the `--user` option or check the permissions.\n",
      "\n",
      "WARNING: You are using pip version 20.1.1; however, version 20.2.2 is available.\n",
      "You should consider upgrading via the 'c:\\python38\\python.exe -m pip install --upgrade pip' command.\n"
     ]
    }
   ],
   "source": [
    "pip install scikit-learn==0.21.2"
   ]
  },
  {
   "cell_type": "code",
   "execution_count": 21,
   "metadata": {},
   "outputs": [],
   "source": [
    "grid_result = grid.fit(X_train, Y_train)"
   ]
  },
  {
   "cell_type": "code",
   "execution_count": 22,
   "metadata": {},
   "outputs": [
    {
     "name": "stdout",
     "output_type": "stream",
     "text": [
      "0.7959999918937684 {'activation': 'sigmoid', 'batch_size': 128, 'epochs': 30, 'layers': [20]}\n"
     ]
    }
   ],
   "source": [
    "print(grid_result.best_score_, grid_result.best_params_)"
   ]
  },
  {
   "cell_type": "code",
   "execution_count": 85,
   "metadata": {},
   "outputs": [
    {
     "data": {
      "text/plain": [
       "'0.23.1'"
      ]
     },
     "execution_count": 85,
     "metadata": {},
     "output_type": "execute_result"
    }
   ],
   "source": [
    "import sklearn as sk\n",
    "sk.__version__"
   ]
  },
  {
   "cell_type": "code",
   "execution_count": null,
   "metadata": {},
   "outputs": [],
   "source": []
  }
 ],
 "metadata": {
  "kernelspec": {
   "display_name": "Python 3",
   "language": "python",
   "name": "python3"
  },
  "language_info": {
   "codemirror_mode": {
    "name": "ipython",
    "version": 3
   },
   "file_extension": ".py",
   "mimetype": "text/x-python",
   "name": "python",
   "nbconvert_exporter": "python",
   "pygments_lexer": "ipython3",
   "version": "3.8.2"
  }
 },
 "nbformat": 4,
 "nbformat_minor": 4
}
